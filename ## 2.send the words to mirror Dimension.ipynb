{
 "cells": [
  {
   "cell_type": "markdown",
   "id": "5a0b35a8",
   "metadata": {},
   "source": [
    "## 2.send the words to mirror Dimension"
   ]
  },
  {
   "cell_type": "code",
   "execution_count": 10,
   "id": "b8a6eb6b",
   "metadata": {},
   "outputs": [
    {
     "name": "stdout",
     "output_type": "stream",
     "text": [
      "enter a word :Edyoda\n"
     ]
    },
    {
     "data": {
      "text/plain": [
       "'adoydE'"
      ]
     },
     "execution_count": 10,
     "metadata": {},
     "output_type": "execute_result"
    }
   ],
   "source": [
    "#### method 1:\n",
    "  \n",
    "a=input(\"enter a word :\")\n",
    "a[::-1]"
   ]
  },
  {
   "cell_type": "markdown",
   "id": "5c7addad",
   "metadata": {},
   "source": [
    "###  sample output:\n",
    "           enter a word :Edyoda\n",
    "           'adoydE'\n"
   ]
  },
  {
   "cell_type": "code",
   "execution_count": 9,
   "id": "c7caeb1f",
   "metadata": {},
   "outputs": [
    {
     "name": "stdout",
     "output_type": "stream",
     "text": [
      "enter the word : Edyoda\n",
      "adoydE\n"
     ]
    }
   ],
   "source": [
    "#### method 2:\n",
    "\n",
    "str1=input(\"enter the word : \")\n",
    "words=str1.split()\n",
    "rev_str1=[]\n",
    "for i in words:\n",
    "    rev_str1.append(i[::-1])\n",
    "    x=''.join(rev_str1)\n",
    "print(x)"
   ]
  },
  {
   "cell_type": "markdown",
   "id": "40094e1d",
   "metadata": {},
   "source": [
    "### sample output:\n",
    "            enter the line : Edyoda\n",
    "                             adoydE\n",
    "\n",
    "\n"
   ]
  }
 ],
 "metadata": {
  "kernelspec": {
   "display_name": "Python 3 (ipykernel)",
   "language": "python",
   "name": "python3"
  },
  "language_info": {
   "codemirror_mode": {
    "name": "ipython",
    "version": 3
   },
   "file_extension": ".py",
   "mimetype": "text/x-python",
   "name": "python",
   "nbconvert_exporter": "python",
   "pygments_lexer": "ipython3",
   "version": "3.10.1"
  }
 },
 "nbformat": 4,
 "nbformat_minor": 5
}
